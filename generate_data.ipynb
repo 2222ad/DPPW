{
 "cells": [
  {
   "cell_type": "markdown",
   "metadata": {},
   "source": [
    "### 参数设置"
   ]
  },
  {
   "cell_type": "code",
   "execution_count": 8,
   "metadata": {},
   "outputs": [],
   "source": [
    "case='1'\n",
    "N=10 # 节点数量\n",
    "F=5 # 无人机数量\n",
    "M=20 # 任务数量"
   ]
  },
  {
   "cell_type": "markdown",
   "metadata": {},
   "source": [
    "### 第一步节点生成"
   ]
  },
  {
   "cell_type": "code",
   "execution_count": 9,
   "metadata": {},
   "outputs": [
    {
     "name": "stdout",
     "output_type": "stream",
     "text": [
      "Done\n"
     ]
    }
   ],
   "source": [
    "# 生成一个N个节点的(有向)图，每个节点的参数为（x,y)，其中x,y均为0-100之间的随机数\n",
    "# 生成的图保存为1/graph.txt文件，每行为一个节点的信息，格式为：节点id x坐标 y坐标\n",
    "import random\n",
    "import os\n",
    "\n",
    "def generate_graph(case,N,random_seed=0):\n",
    "    if not os.path.exists(case):\n",
    "        os.mkdir(case)\n",
    "    graph_N={}\n",
    "    random.seed(random_seed)\n",
    "    with open(case+'/graph.txt', 'w') as f:\n",
    "        f.write(f'{N}\\n')\n",
    "        for i in range(N):\n",
    "            x = random.randint(0, 100)\n",
    "            y = random.randint(0, 100)\n",
    "            graph_N[i] = (x, y)\n",
    "            f.write(f'{i} {x} {y}\\n')\n",
    "    return graph_N\n",
    "\n",
    "\n",
    "graph_N=generate_graph(case,N,random_seed=0)\n",
    "print('Done')"
   ]
  },
  {
   "cell_type": "markdown",
   "metadata": {},
   "source": [
    "### 第二步，无人机初始位置生成"
   ]
  },
  {
   "cell_type": "code",
   "execution_count": 10,
   "metadata": {},
   "outputs": [],
   "source": [
    "## 生成一个F个无人机的初始位置，每个无人机在一个节点上，每个无人机的初始位置可以相同\n",
    "## 生成的初始位置保存为1/initial.txt文件，每行为一个无人机的初始位置，格式为：无人机id 节点id\n",
    "def generate_initial(case,F,N,random_seed=0):\n",
    "    random.seed(random_seed)\n",
    "    if not os.path.exists(case):\n",
    "        os.mkdir(case)\n",
    "    initial_pos = {}\n",
    "    with open(case+'/initial_Pos.txt', 'w') as f:\n",
    "        f.write(f'{F}\\n')\n",
    "        for i in range(F):\n",
    "            pos = random.randint(0, N-1)\n",
    "            initial_pos[i] = pos\n",
    "            f.write(f'{i} {i}\\n'.format(i,pos))\n",
    "    return initial_pos\n",
    "\n",
    "initial_pos = generate_initial(case,F,N,random_seed=0)\n"
   ]
  },
  {
   "cell_type": "markdown",
   "metadata": {},
   "source": [
    "### 第三步生成M个任务，每个任务的参数为（x,y,T）,表示从x节点到y节点的任务，T为任务的截止时间"
   ]
  },
  {
   "cell_type": "code",
   "execution_count": 11,
   "metadata": {},
   "outputs": [],
   "source": [
    "# ### 第三步生成M个任务，每个任务的参数为（x,y,T),表示从x节点到y节点的任务，T为任务的截止时间\n",
    "# ### 生成的任务保存为1/task.txt文件，每行为一个任务的信息，格式为：任务id 起始节点id 终止节点id 截止时间\n",
    "# def generate_task(case,M,N,random_seed=0):\n",
    "#     random.seed(random_seed)\n",
    "#     if not os.path.exists(case):\n",
    "#         os.mkdir(case)\n",
    "#     with open(case+'/task.txt', 'w') as f:\n",
    "#         f.write(f'{M}\\n')\n",
    "#         for i in range(M):\n",
    "#             x = random.randint(0, N-1)\n",
    "#             y = random.randint(0, N-1)\n",
    "#             T = random.randint(0, 100)\n",
    "#             f.write(f'{i} {x} {y} {T}\\n')\n",
    "#     return"
   ]
  },
  {
   "cell_type": "markdown",
   "metadata": {},
   "source": [
    "####  计算节点之间的距离矩阵"
   ]
  },
  {
   "cell_type": "code",
   "execution_count": 12,
   "metadata": {},
   "outputs": [],
   "source": [
    "### 计算节点之间的距离，保存为1/distance.txt文件，每行为两个节点之间的距离，格式为：节点id1 节点id2 距离\n",
    "def generate_distance(case,N,graph_N):\n",
    "    if not os.path.exists(case):\n",
    "        os.mkdir(case)\n",
    "    distance_M = {}\n",
    "    with open(case+'/distance.txt', 'w') as f:\n",
    "        f.write(f'{N**2}\\n')\n",
    "        for i in range(N):\n",
    "            for j in range(N):\n",
    "                # if i==j:\n",
    "                #     continue\n",
    "                x1,y1 = graph_N[i]\n",
    "                x2,y2 = graph_N[j]\n",
    "                distance = ((x1-x2)**2+(y1-y2)**2)**0.5\n",
    "                distance_M[(i,j)] = distance\n",
    "                f.write(f'{i} {j} {distance}\\n')\n",
    "    return distance_M\n",
    "\n",
    "distance_M = generate_distance(case,N,graph_N)"
   ]
  },
  {
   "cell_type": "markdown",
   "metadata": {},
   "source": [
    "####  为每个无人机较为均匀的分配任务数量"
   ]
  },
  {
   "cell_type": "code",
   "execution_count": 13,
   "metadata": {},
   "outputs": [
    {
     "data": {
      "text/plain": [
       "{0: 4, 1: 4, 2: 3, 3: 4, 4: 5}"
      ]
     },
     "execution_count": 13,
     "metadata": {},
     "output_type": "execute_result"
    }
   ],
   "source": [
    "### 为无人机分配均匀的分配任务数量\n",
    "def generate_task_num(case,F,M,random_seed=0):\n",
    "    random.seed(random_seed)\n",
    "    task_num_M = {}\n",
    "    task_mean=M//F\n",
    "    for i in range(F):\n",
    "        a=task_mean+random.randint(-task_mean//(F**2),task_mean//(F**2))\n",
    "        task_num_M[i] = a\n",
    "        M=M-a\n",
    "        if F-i-1!=0:\n",
    "            task_mean=M//(F-i-1)\n",
    "    return task_num_M\n",
    "\n",
    "task_num_M = generate_task_num(case,F,M,random_seed=0)\n",
    "\n",
    "task_num_M"
   ]
  },
  {
   "cell_type": "markdown",
   "metadata": {},
   "source": [
    "#### 使用深度优先搜索来确定任务"
   ]
  },
  {
   "cell_type": "code",
   "execution_count": 14,
   "metadata": {},
   "outputs": [
    {
     "data": {
      "text/plain": [
       "[(0, 0, 5, 135),\n",
       " (0, 0, 1, 287),\n",
       " (0, 2, 3, 387),\n",
       " (0, 6, 8, 454),\n",
       " (0, 8, 0, 537),\n",
       " (1, 6, 8, 41),\n",
       " (1, 8, 6, 84),\n",
       " (1, 6, 1, 116),\n",
       " (1, 3, 7, 196),\n",
       " (1, 8, 7, 252),\n",
       " (2, 0, 6, 80),\n",
       " (2, 6, 8, 122),\n",
       " (2, 3, 5, 174),\n",
       " (2, 5, 2, 209),\n",
       " (3, 3, 0, 91),\n",
       " (3, 0, 6, 172),\n",
       " (3, 1, 4, 262),\n",
       " (3, 8, 4, 401),\n",
       " (3, 4, 9, 426),\n",
       " (4, 9, 6, 85),\n",
       " (4, 9, 4, 139),\n",
       " (4, 4, 8, 212),\n",
       " (4, 8, 7, 242),\n",
       " (4, 7, 9, 276),\n",
       " (4, 9, 8, 340)]"
      ]
     },
     "execution_count": 14,
     "metadata": {},
     "output_type": "execute_result"
    }
   ],
   "source": [
    "def get_road(Task_N:int,N:int,graph_N:dict,distance_M:dict,pre:int,now:int,time:float,step:int,random_seed=0,P=0.5):\n",
    "    if step>task_num_M[Task_N]:\n",
    "        # print(\"Task_N  end\",Task_N)\n",
    "        return\n",
    "    global Task_list\n",
    "    if random_seed==0:\n",
    "        random.seed()  \n",
    "\n",
    "    # 从当前节点now出发，随机选择下一个节点\n",
    "    next = random.randint(0, N-1)\n",
    "    while next == now:\n",
    "        next = random.randint(0, N-1)\n",
    "    \n",
    "    # 判断pre是不是0，0代表前驱不是任务线,下一次必为任务线\n",
    "    if pre==0:\n",
    "        end_time=int(time+distance_M[(now,next)]*random.uniform(0.98, 1.1))\n",
    "        Task_list.append((Task_N,now,next,end_time))\n",
    "        # print(Task_N,now,next,end_time)\n",
    "        get_road(Task_N,N,graph_N,distance_M,1,next,end_time,step+1,P=P)\n",
    "    else:\n",
    "        # 随机生成一个0-1的数，如果大于0.5，则下一次必为任务线\n",
    "        if random.uniform(0, 1)>P:\n",
    "            end_time=int(time+distance_M[(now,next)]*random.uniform(0.98, 1.1))\n",
    "            Task_list.append((Task_N,now,next,end_time))\n",
    "            # print(Task_N,now,next,end_time)\n",
    "            get_road(Task_N,N,graph_N,distance_M,1,next,end_time,step+1,P=P)\n",
    "        else:\n",
    "            end_time=int(time+distance_M[(now,next)]*random.uniform(0.98, 1.1))\n",
    "            # print(Task_N,now,next,end_time)\n",
    "            get_road(Task_N,N,graph_N,distance_M,0,next,end_time,step,P=P)\n",
    "    return \n",
    "\n",
    "\n",
    "\n",
    "def generate_road(case,F,M,N,graph_N,distance_M,task_num_M,random_seed=0,P=0.5):\n",
    "    if not os.path.exists(case):\n",
    "        os.mkdir(case)\n",
    "    global Task_list\n",
    "    Task_list=[]\n",
    "\n",
    "    for j in task_num_M.keys():\n",
    "        get_road(j,N,graph_N,distance_M,pre=1,now=initial_pos[j],time=0,step=0,P=0.5)\n",
    "    with open(case+'/road.txt', 'w') as f:\n",
    "        f.write(f'{len(Task_list)}\\n')\n",
    "        for i in range(len(Task_list)):\n",
    "            f.write(f'{i} {Task_list[i][1]}  {Task_list[i][2]} {Task_list[i][3]}\\n')\n",
    "    return Task_list\n",
    "\n",
    "Task_list={}\n",
    "generate_road(case,F,M,N,graph_N,distance_M,task_num_M,random_seed=0,P=0.5)\n",
    "Task_list"
   ]
  }
 ],
 "metadata": {
  "kernelspec": {
   "display_name": "base",
   "language": "python",
   "name": "python3"
  },
  "language_info": {
   "codemirror_mode": {
    "name": "ipython",
    "version": 3
   },
   "file_extension": ".py",
   "mimetype": "text/x-python",
   "name": "python",
   "nbconvert_exporter": "python",
   "pygments_lexer": "ipython3",
   "version": "3.10.9"
  }
 },
 "nbformat": 4,
 "nbformat_minor": 2
}
